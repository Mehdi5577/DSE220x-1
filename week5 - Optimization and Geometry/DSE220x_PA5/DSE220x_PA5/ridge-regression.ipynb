{
 "cells": [
  {
   "cell_type": "markdown",
   "metadata": {},
   "source": [
    "# Gradient-based solver for ridge regression"
   ]
  },
  {
   "cell_type": "markdown",
   "metadata": {},
   "source": [
    "In this notebook, you will create a **gradient descent** solver for **ridge regression** and then compare it to the built-in solver in `sklearn.linear_model`."
   ]
  },
  {
   "cell_type": "markdown",
   "metadata": {},
   "source": [
    "## 1. Set up notebook and create data set"
   ]
  },
  {
   "cell_type": "markdown",
   "metadata": {},
   "source": [
    "After loading in some standard packages, we create a synthetic data set consisting of data points `(x,y)`:\n",
    "* `x`: 100-dimensional vector whose coordinates are independent draws from a standard normal (Gaussian) distribution\n",
    "* `y`: response value given by `y = wx + e` where `w` is a target regression function and `e` is Gaussian noise\n",
    "\n",
    "We will fix `w` to be the 100-dimensional vector whose first ten coordinates are exactly 1.0, and whose remaining coordinates are zero. Thus only the first ten coordinates of `x` are relevant to the regression task."
   ]
  },
  {
   "cell_type": "code",
   "execution_count": 1,
   "metadata": {},
   "outputs": [],
   "source": [
    "%matplotlib inline\n",
    "import numpy as np\n",
    "import matplotlib\n",
    "import matplotlib.pyplot as plt\n",
    "from sklearn import linear_model\n",
    "from sklearn.metrics import mean_squared_error\n",
    "matplotlib.rc('xtick', labelsize=14)\n",
    "matplotlib.rc('ytick', labelsize=14)"
   ]
  },
  {
   "cell_type": "markdown",
   "metadata": {},
   "source": [
    "The following procedure, **generate_data**, creates a data set of a specified number of points. It is invoked as follows:\n",
    "* `trainx, trainy = generate_data(n)`\n",
    "\n",
    "Here:\n",
    "* `n` is the target number of points\n",
    "* `trainx`: `nx100` array of data points\n",
    "* `trainy`: array of `n` response values"
   ]
  },
  {
   "cell_type": "code",
   "execution_count": 2,
   "metadata": {},
   "outputs": [],
   "source": [
    "def generate_data(n):\n",
    "    d = 100\n",
    "    w = np.zeros(d)\n",
    "    for i in range(0,10):\n",
    "        w[i] = 1.0\n",
    "    #\n",
    "    trainx = np.random.normal(size=(n,d))\n",
    "    e = np.random.normal(size=(n))\n",
    "    trainy = np.dot(trainx, w) + e\n",
    "    #\n",
    "    return trainx, trainy"
   ]
  },
  {
   "cell_type": "markdown",
   "metadata": {},
   "source": [
    "## 2. Gradient descent solver for ridge regression"
   ]
  },
  {
   "cell_type": "markdown",
   "metadata": {},
   "source": [
    "<font color=\"magenta\">**For you to do:**</font> Define a procedure, **ridge_regression_GD**, that uses gradient descent to solve the ridge regression problem. It is invoked as follows:\n",
    "\n",
    "* `w,b,losses = ridge_regression_GD(x,y,C)`\n",
    "\n",
    "Here, the input consists of:\n",
    "* training data `x,y`, where `x` and `y` are numpy arrays of dimension `n`-by-`d` and `n`, respectively (if there are `n` training points)\n",
    "* regularization constant `C`\n",
    "\n",
    "The function should find the `d`-dimensional vector `w` and offset `b` that minimize the ridge regression loss function (with regularization constant `C`), and return:\n",
    "* `w` and `b`\n",
    "* `losses`, an array containing the ridge regression loss at each iteration\n",
    "\n",
    "<font color=\"magenta\">Advice:</font> First figure out the derivative, which has a relatively simple form. Next, when implementing gradient descent, think carefully about two issues.\n",
    "\n",
    "1. What is the step size?\n",
    "2. When has the procedure converged?\n",
    "\n",
    "Take the time to experiment with different ways of handling these."
   ]
  },
  {
   "cell_type": "code",
   "execution_count": 3,
   "metadata": {},
   "outputs": [],
   "source": [
    "def ridge_regression_GD(x,y,C):\n",
    "    ### Put your code here\n",
    "    m,n = x.shape\n",
    "    w = np.zeros((n+1,1))\n",
    "    x_bias = np.c_[np.ones((m,1)),x]\n",
    "    max_iter = 10000\n",
    "    alpha = 1e-2\n",
    "    losses = np.zeros(max_iter)\n",
    "    for i in range(max_iter):\n",
    "        h = np.dot(x_bias, w)\n",
    "        delta_y = y.reshape(-1,1)-h.reshape(-1,1)\n",
    "        loss = np.dot(delta_y.T, delta_y)\n",
    "        losses[i] = loss\n",
    "        if i!=0:\n",
    "            w -= alpha/(i)*(-2*np.dot(x_bias.T, delta_y) + np.r_[np.zeros((1,1)), 2*C*w[1:]])\n",
    "#             w -= alpha/(i)*(-2*np.dot(x.T, delta_y))\n",
    "        else:\n",
    "            w -= alpha*(-2*np.dot(x_bias.T, delta_y) + np.r_[np.zeros((1,1)), 2*C*w[1:]])\n",
    "#         b -= -2*np.sum(delta_y, axis=0)\n",
    "        # loss = np.dot(delta_y.T, delta_y) + C*np.dot(w.T, w)\n",
    "        \n",
    "    return w[1:],w[0],losses"
   ]
  },
  {
   "cell_type": "code",
   "execution_count": 4,
   "metadata": {},
   "outputs": [],
   "source": [
    "def ridge_regression_GD2(x,y,C):\n",
    "    ### Put your code here\n",
    "    m,n = x.shape\n",
    "    w = np.zeros((n,1))\n",
    "    b = 0\n",
    "    max_iter = 1000\n",
    "    alpha = 1e-3\n",
    "    losses = np.zeros(max_iter)\n",
    "    for i in range(max_iter):\n",
    "        h = np.dot(x, w) + b\n",
    "        delta_y = y.reshape(-1,1)-h.reshape(-1,1)\n",
    "        loss = np.dot(delta_y.T, delta_y)\n",
    "        losses[i] = loss\n",
    "        if i!=0:\n",
    "            w -= alpha/i*(-2*np.dot(x.T, delta_y) + 2*C*w)  # w和b分开更新，两个地方都需要乘以学习率alpha\n",
    "            b -= alpha/i*(-2*np.sum(delta_y))\n",
    "        else:\n",
    "            w -= alpha*(-2*np.dot(x.T, delta_y) + 2*C*w)\n",
    "            b -= alpha*(-2*np.sum(delta_y))\n",
    "        \n",
    "    return w,b,losses"
   ]
  },
  {
   "cell_type": "code",
   "execution_count": 5,
   "metadata": {},
   "outputs": [
    {
     "ename": "NameError",
     "evalue": "name 'y' is not defined",
     "output_type": "error",
     "traceback": [
      "\u001b[1;31m---------------------------------------------------------------------------\u001b[0m",
      "\u001b[1;31mNameError\u001b[0m                                 Traceback (most recent call last)",
      "\u001b[1;32m<ipython-input-5-36aeeca8569f>\u001b[0m in \u001b[0;36m<module>\u001b[1;34m()\u001b[0m\n\u001b[1;32m----> 1\u001b[1;33m \u001b[0merror\u001b[0m \u001b[1;33m=\u001b[0m \u001b[0my\u001b[0m\u001b[1;33m.\u001b[0m\u001b[0mreshape\u001b[0m\u001b[1;33m(\u001b[0m\u001b[1;33m-\u001b[0m\u001b[1;36m1\u001b[0m\u001b[1;33m,\u001b[0m\u001b[1;36m1\u001b[0m\u001b[1;33m)\u001b[0m \u001b[1;33m-\u001b[0m \u001b[0mnp\u001b[0m\u001b[1;33m.\u001b[0m\u001b[0mdot\u001b[0m\u001b[1;33m(\u001b[0m\u001b[0mx\u001b[0m\u001b[1;33m,\u001b[0m \u001b[0mw\u001b[0m\u001b[1;33m)\u001b[0m \u001b[1;33m+\u001b[0m \u001b[0mb\u001b[0m\u001b[1;33m\u001b[0m\u001b[0m\n\u001b[0m",
      "\u001b[1;31mNameError\u001b[0m: name 'y' is not defined"
     ]
    }
   ],
   "source": [
    "error = y.reshape(-1,1) - np.dot(x, w) + b"
   ]
  },
  {
   "cell_type": "code",
   "execution_count": 6,
   "metadata": {},
   "outputs": [
    {
     "data": {
      "text/plain": [
       "2.0"
      ]
     },
     "execution_count": 6,
     "metadata": {},
     "output_type": "execute_result"
    }
   ],
   "source": [
    "np.sum(np.r_[np.zeros((1,1)), np.ones((2,1))])"
   ]
  },
  {
   "cell_type": "markdown",
   "metadata": {},
   "source": [
    "Let's try it out and print a graph of the loss values during the optimization process."
   ]
  },
  {
   "cell_type": "code",
   "execution_count": 7,
   "metadata": {
    "scrolled": true
   },
   "outputs": [
    {
     "data": {
      "text/plain": [
       "((200, 100), (200,))"
      ]
     },
     "execution_count": 7,
     "metadata": {},
     "output_type": "execute_result"
    }
   ],
   "source": [
    "# Generate 200 data points\n",
    "n = 200\n",
    "x,y = generate_data(n)\n",
    "# Set regularization constant\n",
    "C = 1.0\n",
    "x.shape, y.shape"
   ]
  },
  {
   "cell_type": "code",
   "execution_count": 8,
   "metadata": {},
   "outputs": [
    {
     "data": {
      "text/plain": [
       "array([[ 0.31108553, -0.46389887, -0.37050839, ..., -0.36478502,\n",
       "        -0.4159248 , -0.46057482],\n",
       "       [-0.75692672, -0.59800212,  1.23785123, ..., -2.14702145,\n",
       "        -1.94237067,  1.2849511 ],\n",
       "       [-0.46669544, -0.84404899, -1.91321661, ..., -1.09977558,\n",
       "         2.14380358, -0.52309308],\n",
       "       ..., \n",
       "       [ 1.08586213,  1.58999582,  0.96487475, ..., -1.02353122,\n",
       "         0.63786761,  1.69726134],\n",
       "       [-0.073868  , -1.89470404,  0.14146297, ...,  0.11190869,\n",
       "        -1.14504174,  0.71299258],\n",
       "       [-0.54753579, -1.32449803, -0.19089589, ..., -0.10203726,\n",
       "        -0.80919692, -0.33901973]])"
      ]
     },
     "execution_count": 8,
     "metadata": {},
     "output_type": "execute_result"
    }
   ],
   "source": [
    "x[:20]"
   ]
  },
  {
   "cell_type": "code",
   "execution_count": 9,
   "metadata": {},
   "outputs": [],
   "source": [
    "# Run gradient descent solver\n",
    "w, b, losses = ridge_regression_GD2(x,y,C)"
   ]
  },
  {
   "cell_type": "code",
   "execution_count": 10,
   "metadata": {
    "scrolled": true
   },
   "outputs": [
    {
     "data": {
      "text/plain": [
       "array([[  8.12049175e-01],\n",
       "       [  1.02114609e+00],\n",
       "       [  7.50000789e-01],\n",
       "       [  7.73197631e-01],\n",
       "       [  9.09234109e-01],\n",
       "       [  8.26264469e-01],\n",
       "       [  9.05753558e-01],\n",
       "       [  8.77276603e-01],\n",
       "       [  9.87378309e-01],\n",
       "       [  8.28513568e-01],\n",
       "       [ -2.75907769e-02],\n",
       "       [ -3.17993946e-02],\n",
       "       [  1.74862032e-01],\n",
       "       [  1.10409559e-01],\n",
       "       [ -2.85798008e-01],\n",
       "       [  4.46652874e-02],\n",
       "       [  2.04162231e-02],\n",
       "       [  2.21779023e-01],\n",
       "       [ -1.13526479e-01],\n",
       "       [ -2.70754526e-02],\n",
       "       [ -5.86474504e-02],\n",
       "       [ -1.74860264e-01],\n",
       "       [ -1.02124796e-01],\n",
       "       [  9.28504898e-03],\n",
       "       [ -9.98951282e-02],\n",
       "       [  8.99797405e-02],\n",
       "       [  2.27671363e-02],\n",
       "       [  5.56026747e-02],\n",
       "       [  1.02512164e-02],\n",
       "       [ -2.50464242e-01],\n",
       "       [ -8.11017142e-02],\n",
       "       [  9.13866757e-02],\n",
       "       [  1.52591976e-02],\n",
       "       [  1.89020134e-02],\n",
       "       [ -2.05446271e-02],\n",
       "       [  1.92587398e-01],\n",
       "       [  2.01406976e-02],\n",
       "       [ -1.62853239e-02],\n",
       "       [ -9.64266176e-02],\n",
       "       [  5.63278685e-02],\n",
       "       [  1.60933629e-01],\n",
       "       [ -1.14024989e-01],\n",
       "       [ -4.39481306e-02],\n",
       "       [ -9.20058538e-02],\n",
       "       [  3.42378789e-02],\n",
       "       [ -1.02026864e-01],\n",
       "       [  4.77624639e-02],\n",
       "       [ -2.33771309e-01],\n",
       "       [  2.76467894e-02],\n",
       "       [ -1.66770059e-01],\n",
       "       [ -3.95291586e-02],\n",
       "       [  3.01210528e-02],\n",
       "       [ -1.12977445e-01],\n",
       "       [ -3.20898535e-02],\n",
       "       [ -8.12826149e-02],\n",
       "       [  8.82675922e-03],\n",
       "       [  2.01461085e-01],\n",
       "       [  2.43155816e-02],\n",
       "       [ -1.04643733e-01],\n",
       "       [ -4.23312113e-04],\n",
       "       [ -1.26052047e-03],\n",
       "       [  8.79154273e-03],\n",
       "       [ -2.19562036e-01],\n",
       "       [ -4.13784359e-02],\n",
       "       [ -1.53722076e-01],\n",
       "       [  2.48147928e-02],\n",
       "       [ -1.05003138e-01],\n",
       "       [ -5.53953637e-02],\n",
       "       [  1.54248032e-01],\n",
       "       [ -9.86767869e-02],\n",
       "       [ -8.34699761e-02],\n",
       "       [ -9.59270282e-02],\n",
       "       [ -1.24690024e-01],\n",
       "       [ -1.44780819e-01],\n",
       "       [ -3.30205852e-02],\n",
       "       [  1.45104038e-01],\n",
       "       [ -1.31395449e-01],\n",
       "       [ -1.32309336e-02],\n",
       "       [ -4.36724865e-02],\n",
       "       [ -1.58810400e-01],\n",
       "       [  6.34464075e-02],\n",
       "       [ -1.91058923e-01],\n",
       "       [  4.93143815e-02],\n",
       "       [ -5.30861454e-02],\n",
       "       [  1.34947340e-01],\n",
       "       [  4.37420495e-02],\n",
       "       [  2.35901974e-01],\n",
       "       [  1.06980245e-02],\n",
       "       [  3.45255760e-02],\n",
       "       [  7.46202791e-02],\n",
       "       [ -6.94256799e-03],\n",
       "       [ -2.88821841e-02],\n",
       "       [ -2.34957626e-02],\n",
       "       [  1.33672252e-01],\n",
       "       [  5.99392394e-02],\n",
       "       [ -4.93780537e-02],\n",
       "       [  1.21824202e-02],\n",
       "       [  3.89210024e-02],\n",
       "       [ -8.34086029e-02],\n",
       "       [ -1.15266709e-01]])"
      ]
     },
     "execution_count": 10,
     "metadata": {},
     "output_type": "execute_result"
    }
   ],
   "source": [
    "w"
   ]
  },
  {
   "cell_type": "code",
   "execution_count": 11,
   "metadata": {
    "scrolled": true
   },
   "outputs": [
    {
     "data": {
      "text/plain": [
       "array([ 2439.47121727,   652.35263414,   360.66955843,   302.50078471,\n",
       "         274.58985167,   257.48763115,   245.65100696,   236.83469746,\n",
       "         229.93716932,   224.34735454,   219.69578199,   215.74431356,\n",
       "         212.3316869 ,   209.3443133 ,   206.69957161,   204.33573756,\n",
       "         202.20564499,   200.27254811,   198.50733565,   196.88660425,\n",
       "         195.39129451,   194.00570544,   192.7167691 ,   191.51350806,\n",
       "         190.38662353,   189.32817857,   188.33135152,   187.39024184,\n",
       "         186.49971583,   185.65528277,   184.85299471,   184.08936476,\n",
       "         183.36129988,   182.66604532,   182.00113839,   181.36436964,\n",
       "         180.75375029,   180.16748456,   179.60394615,   179.06165819,\n",
       "         178.53927591,   178.03557185,   177.5494229 ,   177.07979917,\n",
       "         176.62575423,   176.18641655,   175.76098205,   175.34870747,\n",
       "         174.94890461,   174.5609351 ,   174.18420589,   173.81816517,\n",
       "         173.46229872,   173.11612666,   172.77920059,   172.45110091,\n",
       "         172.13143451,   171.81983265,   171.51594901,   171.21945801,\n",
       "         170.93005318,   170.64744575,   170.37136338,   170.10154893,\n",
       "         169.83775941,   169.57976497,   169.327348  ,   169.08030231,\n",
       "         168.83843235,   168.60155254,   168.36948657,   168.14206687,\n",
       "         167.91913401,   167.70053624,   167.48612896,   167.27577434,\n",
       "         167.0693409 ,   166.86670314,   166.66774117,   166.47234042,\n",
       "         166.28039132,   166.09178903,   165.90643318,   165.72422761,\n",
       "         165.54508018,   165.3689025 ,   165.19560978,   165.02512065,\n",
       "         164.85735693,   164.69224352,   164.52970822,   164.3696816 ,\n",
       "         164.21209686,   164.05688969,   163.90399816,   163.75336262,\n",
       "         163.60492559,   163.45863161,   163.31442723,   163.17226086,\n",
       "         163.03208269,   162.89384465,   162.75750029,   162.62300472,\n",
       "         162.49031457,   162.35938788,   162.23018407,   162.10266389,\n",
       "         161.97678934,   161.85252361,   161.72983109,   161.60867725,\n",
       "         161.48902863,   161.37085282,   161.25411837,   161.13879479,\n",
       "         161.02485248,   160.91226275,   160.80099773,   160.69103035,\n",
       "         160.58233435,   160.47488419,   160.36865508,   160.2636229 ,\n",
       "         160.15976422,   160.05705627,   159.95547687,   159.85500447,\n",
       "         159.7556181 ,   159.65729733,   159.5600223 ,   159.46377366,\n",
       "         159.36853257,   159.27428066,   159.18100007,   159.08867336,\n",
       "         158.99728355,   158.90681409,   158.81724884,   158.72857205,\n",
       "         158.64076838,   158.55382284,   158.46772082,   158.38244806,\n",
       "         158.29799064,   158.21433496,   158.13146775,   158.04937607,\n",
       "         157.96804724,   157.8874689 ,   157.80762898,   157.72851566,\n",
       "         157.65011741,   157.57242295,   157.49542124,   157.41910152,\n",
       "         157.34345322,   157.26846604,   157.19412989,   157.1204349 ,\n",
       "         157.0473714 ,   156.97492995,   156.90310128,   156.83187635,\n",
       "         156.76124629,   156.6912024 ,   156.62173619,   156.55283933,\n",
       "         156.48450366,   156.41672119,   156.34948408,   156.28278467,\n",
       "         156.21661542,   156.15096897,   156.08583809,   156.0212157 ,\n",
       "         155.95709484,   155.89346872,   155.83033063,   155.76767404,\n",
       "         155.70549252,   155.64377975,   155.58252955,   155.52173585,\n",
       "         155.46139269,   155.40149423,   155.34203471,   155.28300851,\n",
       "         155.22441009,   155.16623402,   155.10847496,   155.05112768,\n",
       "         154.99418704,   154.93764797,   154.88150551,   154.82575479,\n",
       "         154.77039101,   154.71540946,   154.66080551,   154.60657463,\n",
       "         154.55271232,   154.49921421,   154.44607597,   154.39329336,\n",
       "         154.34086219,   154.28877836,   154.23703784,   154.18563664,\n",
       "         154.13457088,   154.08383669,   154.03343031,   153.98334802,\n",
       "         153.93358615,   153.88414111,   153.83500935,   153.78618739,\n",
       "         153.73767179,   153.68945919,   153.64154625,   153.5939297 ,\n",
       "         153.54660633,   153.49957296,   153.45282647,   153.40636378,\n",
       "         153.36018186,   153.31427773,   153.26864846,   153.22329116,\n",
       "         153.17820296,   153.13338107,   153.08882272,   153.04452519,\n",
       "         153.00048578,   152.95670187,   152.91317082,   152.86989009,\n",
       "         152.82685714,   152.78406946,   152.74152461,   152.69922016,\n",
       "         152.65715372,   152.61532292,   152.57372546,   152.53235903,\n",
       "         152.49122138,   152.45031029,   152.40962355,   152.369159  ,\n",
       "         152.32891451,   152.28888796,   152.24907728,   152.20948042,\n",
       "         152.17009536,   152.1309201 ,   152.09195267,   152.05319114,\n",
       "         152.01463358,   151.9762781 ,   151.93812284,   151.90016596,\n",
       "         151.86240564,   151.82484009,   151.78746753,   151.75028622,\n",
       "         151.71329444,   151.67649048,   151.63987266,   151.60343932,\n",
       "         151.56718882,   151.53111956,   151.49522991,   151.45951833,\n",
       "         151.42398323,   151.38862309,   151.35343639,   151.31842163,\n",
       "         151.28357732,   151.248902  ,   151.21439423,   151.18005258,\n",
       "         151.14587563,   151.111862  ,   151.07801031,   151.0443192 ,\n",
       "         151.01078732,   150.97741334,   150.94419596,   150.91113387,\n",
       "         150.87822581,   150.84547049,   150.81286667,   150.78041311,\n",
       "         150.74810859,   150.7159519 ,   150.68394185,   150.65207725,\n",
       "         150.62035695,   150.58877978,   150.5573446 ,   150.52605029,\n",
       "         150.49489574,   150.46387984,   150.4330015 ,   150.40225964,\n",
       "         150.37165321,   150.34118113,   150.31084238,   150.28063593,\n",
       "         150.25056074,   150.22061583,   150.19080018,   150.16111281,\n",
       "         150.13155275,   150.10211904,   150.07281071,   150.04362683,\n",
       "         150.01456646,   149.98562868,   149.95681257,   149.92811723,\n",
       "         149.89954176,   149.87108529,   149.84274692,   149.81452581,\n",
       "         149.78642108,   149.7584319 ,   149.73055741,   149.7027968 ,\n",
       "         149.67514923,   149.64761389,   149.62018998,   149.59287671,\n",
       "         149.56567327,   149.53857889,   149.5115928 ,   149.48471423,\n",
       "         149.45794242,   149.43127663,   149.4047161 ,   149.37826011,\n",
       "         149.35190793,   149.32565883,   149.29951211,   149.27346706,\n",
       "         149.24752297,   149.22167915,   149.19593493,   149.17028961,\n",
       "         149.14474253,   149.11929302,   149.09394043,   149.06868409,\n",
       "         149.04352336,   149.0184576 ,   148.99348618,   148.96860847,\n",
       "         148.94382384,   148.91913168,   148.89453138,   148.87002233,\n",
       "         148.84560394,   148.8212756 ,   148.79703674,   148.77288676,\n",
       "         148.7488251 ,   148.72485117,   148.70096442,   148.67716428,\n",
       "         148.65345019,   148.62982161,   148.60627799,   148.58281878,\n",
       "         148.55944346,   148.53615148,   148.51294233,   148.48981548,\n",
       "         148.46677041,   148.44380661,   148.42092358,   148.39812081,\n",
       "         148.3753978 ,   148.35275405,   148.33018909,   148.30770241,\n",
       "         148.28529355,   148.26296202,   148.24070735,   148.21852907,\n",
       "         148.19642671,   148.17439983,   148.15244795,   148.13057062,\n",
       "         148.10876741,   148.08703785,   148.06538152,   148.04379797,\n",
       "         148.02228677,   148.00084749,   147.9794797 ,   147.95818298,\n",
       "         147.93695691,   147.91580108,   147.89471508,   147.87369849,\n",
       "         147.85275091,   147.83187193,   147.81106117,   147.79031822,\n",
       "         147.76964269,   147.74903419,   147.72849234,   147.70801676,\n",
       "         147.68760706,   147.66726288,   147.64698383,   147.62676955,\n",
       "         147.60661966,   147.58653382,   147.56651165,   147.54655279,\n",
       "         147.5266569 ,   147.50682361,   147.48705259,   147.46734347,\n",
       "         147.44769593,   147.42810961,   147.40858418,   147.38911931,\n",
       "         147.36971465,   147.35036988,   147.33108467,   147.3118587 ,\n",
       "         147.29269164,   147.27358317,   147.25453297,   147.23554073,\n",
       "         147.21660614,   147.19772888,   147.17890865,   147.16014513,\n",
       "         147.14143804,   147.12278705,   147.10419189,   147.08565224,\n",
       "         147.06716782,   147.04873834,   147.0303635 ,   147.01204301,\n",
       "         146.99377659,   146.97556396,   146.95740484,   146.93929894,\n",
       "         146.92124599,   146.90324572,   146.88529784,   146.8674021 ,\n",
       "         146.84955821,   146.83176592,   146.81402496,   146.79633507,\n",
       "         146.77869598,   146.76110744,   146.74356918,   146.72608096,\n",
       "         146.70864252,   146.6912536 ,   146.67391396,   146.65662335,\n",
       "         146.63938153,   146.62218824,   146.60504324,   146.58794631,\n",
       "         146.57089718,   146.55389564,   146.53694143,   146.52003433,\n",
       "         146.50317411,   146.48636053,   146.46959336,   146.45287238,\n",
       "         146.43619736,   146.41956808,   146.40298431,   146.38644583,\n",
       "         146.36995242,   146.35350386,   146.33709994,   146.32074044,\n",
       "         146.30442514,   146.28815384,   146.27192633,   146.25574238,\n",
       "         146.23960181,   146.22350439,   146.20744992,   146.19143821,\n",
       "         146.17546904,   146.15954222,   146.14365755,   146.12781482,\n",
       "         146.11201385,   146.09625443,   146.08053638,   146.06485949,\n",
       "         146.04922358,   146.03362845,   146.01807392,   146.0025598 ,\n",
       "         145.9870859 ,   145.97165204,   145.95625802,   145.94090368,\n",
       "         145.92558883,   145.91031328,   145.89507686,   145.87987938,\n",
       "         145.86472068,   145.84960058,   145.83451889,   145.81947545,\n",
       "         145.80447009,   145.78950262,   145.77457289,   145.75968073,\n",
       "         145.74482596,   145.73000841,   145.71522793,   145.70048434,\n",
       "         145.68577749,   145.67110721,   145.65647333,   145.64187571,\n",
       "         145.62731416,   145.61278855,   145.59829871,   145.58384448,\n",
       "         145.56942571,   145.55504225,   145.54069393,   145.52638061,\n",
       "         145.51210214,   145.49785835,   145.48364911,   145.46947427,\n",
       "         145.45533367,   145.44122717,   145.42715462,   145.41311588,\n",
       "         145.3991108 ,   145.38513924,   145.37120105,   145.3572961 ,\n",
       "         145.34342424,   145.32958533,   145.31577924,   145.30200582,\n",
       "         145.28826493,   145.27455645,   145.26088023,   145.24723613,\n",
       "         145.23362403,   145.22004379,   145.20649528,   145.19297837,\n",
       "         145.17949291,   145.16603879,   145.15261588,   145.13922404,\n",
       "         145.12586314,   145.11253307,   145.09923368,   145.08596487,\n",
       "         145.0727265 ,   145.05951844,   145.04634057,   145.03319278,\n",
       "         145.02007494,   145.00698692,   144.99392861,   144.98089988,\n",
       "         144.96790062,   144.95493071,   144.94199002,   144.92907845,\n",
       "         144.91619587,   144.90334218,   144.89051724,   144.87772096,\n",
       "         144.86495321,   144.85221388,   144.83950286,   144.82682004,\n",
       "         144.8141653 ,   144.80153854,   144.78893964,   144.7763685 ,\n",
       "         144.763825  ,   144.75130904,   144.7388205 ,   144.72635929,\n",
       "         144.7139253 ,   144.70151842,   144.68913853,   144.67678555,\n",
       "         144.66445937,   144.65215987,   144.63988697,   144.62764055,\n",
       "         144.61542051,   144.60322676,   144.59105919,   144.5789177 ,\n",
       "         144.5668022 ,   144.55471257,   144.54264874,   144.53061058,\n",
       "         144.51859802,   144.50661095,   144.49464927,   144.48271289,\n",
       "         144.47080172,   144.45891565,   144.4470546 ,   144.43521847,\n",
       "         144.42340717,   144.4116206 ,   144.39985868,   144.3881213 ,\n",
       "         144.37640839,   144.36471984,   144.35305556,   144.34141548,\n",
       "         144.32979949,   144.31820752,   144.30663946,   144.29509523,\n",
       "         144.28357475,   144.27207793,   144.26060468,   144.24915491,\n",
       "         144.23772854,   144.22632549,   144.21494566,   144.20358898,\n",
       "         144.19225536,   144.18094472,   144.16965696,   144.15839202,\n",
       "         144.14714981,   144.13593025,   144.12473325,   144.11355874,\n",
       "         144.10240663,   144.09127684,   144.0801693 ,   144.06908392,\n",
       "         144.05802063,   144.04697934,   144.03595999,   144.02496248,\n",
       "         144.01398675,   144.00303272,   143.9921003 ,   143.98118943,\n",
       "         143.97030003,   143.95943202,   143.94858534,   143.93775989,\n",
       "         143.92695561,   143.91617243,   143.90541027,   143.89466906,\n",
       "         143.88394872,   143.87324919,   143.86257039,   143.85191225,\n",
       "         143.8412747 ,   143.83065766,   143.82006107,   143.80948486,\n",
       "         143.79892895,   143.78839328,   143.77787778,   143.76738237,\n",
       "         143.756907  ,   143.74645158,   143.73601606,   143.72560037,\n",
       "         143.71520444,   143.70482819,   143.69447158,   143.68413452,\n",
       "         143.67381695,   143.66351881,   143.65324004,   143.64298056,\n",
       "         143.63274031,   143.62251923,   143.61231726,   143.60213432,\n",
       "         143.59197037,   143.58182532,   143.57169913,   143.56159172,\n",
       "         143.55150304,   143.54143302,   143.53138161,   143.52134873,\n",
       "         143.51133434,   143.50133836,   143.49136075,   143.48140143,\n",
       "         143.47146035,   143.46153744,   143.45163266,   143.44174594,\n",
       "         143.43187721,   143.42202643,   143.41219354,   143.40237847,\n",
       "         143.39258117,   143.38280158,   143.37303964,   143.3632953 ,\n",
       "         143.3535685 ,   143.34385919,   143.3341673 ,   143.32449278,\n",
       "         143.31483558,   143.30519564,   143.29557291,   143.28596733,\n",
       "         143.27637884,   143.2668074 ,   143.25725294,   143.24771541,\n",
       "         143.23819477,   143.22869095,   143.21920391,   143.20973359,\n",
       "         143.20027993,   143.19084289,   143.18142242,   143.17201845,\n",
       "         143.16263095,   143.15325985,   143.14390511,   143.13456667,\n",
       "         143.12524449,   143.11593852,   143.1066487 ,   143.09737498,\n",
       "         143.08811732,   143.07887566,   143.06964995,   143.06044016,\n",
       "         143.05124621,   143.04206808,   143.03290571,   143.02375904,\n",
       "         143.01462804,   143.00551266,   142.99641284,   142.98732854,\n",
       "         142.97825971,   142.96920631,   142.96016828,   142.95114559,\n",
       "         142.94213818,   142.93314601,   142.92416903,   142.9152072 ,\n",
       "         142.90626047,   142.8973288 ,   142.88841214,   142.87951044,\n",
       "         142.87062366,   142.86175176,   142.85289468,   142.8440524 ,\n",
       "         142.83522485,   142.82641201,   142.81761382,   142.80883024,\n",
       "         142.80006122,   142.79130674,   142.78256673,   142.77384116,\n",
       "         142.76512999,   142.75643317,   142.74775066,   142.73908243,\n",
       "         142.73042842,   142.72178859,   142.71316291,   142.70455133,\n",
       "         142.69595381,   142.68737031,   142.67880079,   142.67024521,\n",
       "         142.66170352,   142.6531757 ,   142.64466169,   142.63616145,\n",
       "         142.62767496,   142.61920216,   142.61074302,   142.6022975 ,\n",
       "         142.59386556,   142.58544716,   142.57704226,   142.56865082,\n",
       "         142.5602728 ,   142.55190818,   142.5435569 ,   142.53521893,\n",
       "         142.52689423,   142.51858276,   142.51028449,   142.50199938,\n",
       "         142.49372738,   142.48546848,   142.47722262,   142.46898977,\n",
       "         142.46076989,   142.45256295,   142.44436891,   142.43618773,\n",
       "         142.42801938,   142.41986382,   142.41172102,   142.40359094,\n",
       "         142.39547354,   142.3873688 ,   142.37927666,   142.37119711,\n",
       "         142.3631301 ,   142.3550756 ,   142.34703357,   142.33900398,\n",
       "         142.3309868 ,   142.32298199,   142.31498951,   142.30700934,\n",
       "         142.29904143,   142.29108577,   142.2831423 ,   142.275211  ,\n",
       "         142.26729183,   142.25938477,   142.25148978,   142.24360681,\n",
       "         142.23573586,   142.22787687,   142.22002982,   142.21219467,\n",
       "         142.2043714 ,   142.19655996,   142.18876034,   142.18097249,\n",
       "         142.17319638,   142.16543199,   142.15767928,   142.14993821,\n",
       "         142.14220877,   142.13449091,   142.12678461,   142.11908983,\n",
       "         142.11140655,   142.10373473,   142.09607434,   142.08842535,\n",
       "         142.08078774,   142.07316147,   142.06554651,   142.05794283,\n",
       "         142.0503504 ,   142.04276919,   142.03519917,   142.02764032,\n",
       "         142.0200926 ,   142.01255598,   142.00503044,   141.99751594,\n",
       "         141.99001246,   141.98251996,   141.97503842,   141.96756782,\n",
       "         141.96010811,   141.95265927,   141.94522128,   141.93779411,\n",
       "         141.93037772,   141.92297209,   141.9155772 ,   141.908193  ,\n",
       "         141.90081949,   141.89345662,   141.88610437,   141.87876272,\n",
       "         141.87143163,   141.86411108,   141.85680104,   141.84950149,\n",
       "         141.84221239,   141.83493372,   141.82766546,   141.82040758,\n",
       "         141.81316004,   141.80592284,   141.79869592,   141.79147929,\n",
       "         141.78427289,   141.77707672,   141.76989074,   141.76271492,\n",
       "         141.75554925,   141.7483937 ,   141.74124824,   141.73411284,\n",
       "         141.72698748,   141.71987213,   141.71276678,   141.70567139,\n",
       "         141.69858594,   141.6915104 ,   141.68444475,   141.67738897,\n",
       "         141.67034302,   141.66330689,   141.65628055,   141.64926398,\n",
       "         141.64225715,   141.63526004,   141.62827262,   141.62129487,\n",
       "         141.61432677,   141.60736829,   141.6004194 ,   141.59348009,\n",
       "         141.58655033,   141.5796301 ,   141.57271937,   141.56581812,\n",
       "         141.55892633,   141.55204397,   141.54517102,   141.53830746,\n",
       "         141.53145327,   141.52460841,   141.51777287,   141.51094663,\n",
       "         141.50412967,   141.49732195,   141.49052346,   141.48373418,\n",
       "         141.47695408,   141.47018314,   141.46342134,   141.45666866,\n",
       "         141.44992507,   141.44319055,   141.43646509,   141.42974865,\n",
       "         141.42304123,   141.41634279,   141.40965331,   141.40297277,\n",
       "         141.39630116,   141.38963844,   141.38298461,   141.37633963,\n",
       "         141.36970349,   141.36307616,   141.35645763,   141.34984787,\n",
       "         141.34324686,   141.33665459,   141.33007102,   141.32349615,\n",
       "         141.31692995,   141.31037239,   141.30382346,   141.29728315,\n",
       "         141.29075142,   141.28422825,   141.27771364,   141.27120755,\n",
       "         141.26470997,   141.25822088,   141.25174026,   141.24526808,\n",
       "         141.23880434,   141.232349  ,   141.22590205,   141.21946347,\n",
       "         141.21303324,   141.20661134,   141.20019775,   141.19379245])"
      ]
     },
     "execution_count": 11,
     "metadata": {},
     "output_type": "execute_result"
    }
   ],
   "source": [
    "losses"
   ]
  },
  {
   "cell_type": "code",
   "execution_count": 12,
   "metadata": {},
   "outputs": [
    {
     "data": {
      "text/plain": [
       "0.068115790007015203"
      ]
     },
     "execution_count": 12,
     "metadata": {},
     "output_type": "execute_result"
    }
   ],
   "source": [
    "b"
   ]
  },
  {
   "cell_type": "code",
   "execution_count": 13,
   "metadata": {},
   "outputs": [
    {
     "data": {
      "image/png": "[encoded data removed]",
      "text/plain": [
       "<matplotlib.figure.Figure at 0x1fe30218320>"
      ]
     },
     "metadata": {},
     "output_type": "display_data"
    }
   ],
   "source": [
    "\n",
    "# Plot the losses\n",
    "plt.plot(losses,'r')\n",
    "plt.xlabel('Iterations', fontsize=14)\n",
    "plt.ylabel('Loss', fontsize=14)\n",
    "plt.show()"
   ]
  },
  {
   "cell_type": "markdown",
   "metadata": {},
   "source": [
    "<font color=\"magenta\">**Something to think about**</font>\n",
    "\n",
    "1. In setting the step size, does it work to use a fixed schedule 1/t? Why or why not?\n",
    "\n",
    "2. Can you set up the gradient descent procedure in such a way that on each iteration, the loss monotonically decreases?\n"
   ]
  },
  {
   "cell_type": "markdown",
   "metadata": {},
   "source": [
    "## 3. Evaluate the gradient descent solver"
   ]
  },
  {
   "cell_type": "markdown",
   "metadata": {},
   "source": [
    "Now let's compare the regressor found by your gradient descent procedure to that returned by the built-in ridge regression solver in `sklearn`. We will compare them in two ways:\n",
    "* Their MSE values\n",
    "* The distance between the corresponding `w`-vectors\n",
    "\n",
    "The latter should be smaller than 10^{-4}.\n"
   ]
  },
  {
   "cell_type": "code",
   "execution_count": 14,
   "metadata": {},
   "outputs": [
    {
     "data": {
      "text/plain": [
       "(200, 1)"
      ]
     },
     "execution_count": 14,
     "metadata": {},
     "output_type": "execute_result"
    }
   ],
   "source": [
    "y.reshape(-1,1).shape"
   ]
  },
  {
   "cell_type": "code",
   "execution_count": 15,
   "metadata": {},
   "outputs": [
    {
     "data": {
      "text/plain": [
       "(200, 1)"
      ]
     },
     "execution_count": 15,
     "metadata": {},
     "output_type": "execute_result"
    }
   ],
   "source": [
    "np.shape(y.reshape(-1,1) -np.dot(x, w))"
   ]
  },
  {
   "cell_type": "code",
   "execution_count": 16,
   "metadata": {},
   "outputs": [],
   "source": [
    "def compute_mse(w,b,x,y):\n",
    "    residuals = y.reshape(-1,1) - (np.dot(x, w) + b)\n",
    "    return np.dot(residuals.T, residuals)/n"
   ]
  },
  {
   "cell_type": "code",
   "execution_count": 17,
   "metadata": {},
   "outputs": [
    {
     "name": "stdout",
     "output_type": "stream",
     "text": [
      "MSE of gradient descent solver:  [[ 0.68457035]]\n",
      "MSE of built-in solver:  0.491123121348\n",
      "Distance between w-coefficients:  38.8871314377\n"
     ]
    }
   ],
   "source": [
    "# Generate 200 data points\n",
    "n = 200\n",
    "x,y = generate_data(n)\n",
    "# Set regularization constant\n",
    "C = 10.0\n",
    "# Run gradient descent solver and compute its MSE\n",
    "w, b, losses = ridge_regression_GD2(x,y,C)\n",
    "# Use built-in routine for ridge regression and compute MSE\n",
    "regr = linear_model.Ridge(alpha=C)\n",
    "regr.fit(x, y)\n",
    "# Print MSE values and L2 distance between the regression functions\n",
    "print(\"MSE of gradient descent solver: \", compute_mse(w,b,x,y))\n",
    "print(\"MSE of built-in solver: \", mean_squared_error(regr.predict(x), y))\n",
    "print(\"Distance between w-coefficients: \", np.linalg.norm(w-regr.coef_))"
   ]
  },
  {
   "cell_type": "markdown",
   "metadata": {},
   "source": [
    "<font color=\"magenta\">**Something to think about**</font>\n",
    "\n",
    "The data was originally generated using a linear function in which only ten of the 100 features (the first ten) were relevant. Does the vector `w` returned by ridge regression correctly identify the relevant features?"
   ]
  },
  {
   "cell_type": "code",
   "execution_count": 18,
   "metadata": {
    "scrolled": true
   },
   "outputs": [
    {
     "data": {
      "text/plain": [
       "array([[  8.17988766e-01],\n",
       "       [  6.62101605e-01],\n",
       "       [  1.03206959e+00],\n",
       "       [  6.47266182e-01],\n",
       "       [  7.91740412e-01],\n",
       "       [  7.75425126e-01],\n",
       "       [  8.54226223e-01],\n",
       "       [  8.26040329e-01],\n",
       "       [  5.99355307e-01],\n",
       "       [  8.99605436e-01],\n",
       "       [ -4.30798908e-03],\n",
       "       [ -2.26315236e-01],\n",
       "       [  2.78081926e-03],\n",
       "       [ -7.37803941e-02],\n",
       "       [ -3.19348192e-02],\n",
       "       [ -2.34027900e-02],\n",
       "       [ -1.10093066e-01],\n",
       "       [  1.15376108e-01],\n",
       "       [ -2.68730020e-02],\n",
       "       [ -1.58505151e-02],\n",
       "       [  8.12802173e-02],\n",
       "       [  1.08144125e-01],\n",
       "       [  1.38631027e-02],\n",
       "       [ -4.44225783e-02],\n",
       "       [  1.73357718e-01],\n",
       "       [ -1.47701629e-02],\n",
       "       [ -1.02232977e-02],\n",
       "       [ -5.83880818e-02],\n",
       "       [ -1.17960001e-01],\n",
       "       [  9.03739367e-02],\n",
       "       [  1.02253152e-01],\n",
       "       [ -2.73189487e-02],\n",
       "       [ -1.21279140e-01],\n",
       "       [ -2.01466697e-01],\n",
       "       [  2.56962130e-02],\n",
       "       [ -3.98028005e-02],\n",
       "       [ -6.58572289e-02],\n",
       "       [ -2.97648470e-02],\n",
       "       [ -8.53613174e-02],\n",
       "       [  2.23509296e-01],\n",
       "       [ -4.10429073e-02],\n",
       "       [ -1.25984212e-01],\n",
       "       [ -1.42498999e-04],\n",
       "       [  6.76232709e-02],\n",
       "       [  1.38080059e-01],\n",
       "       [ -2.20460254e-03],\n",
       "       [  8.03739666e-02],\n",
       "       [ -3.76690406e-02],\n",
       "       [  8.64044006e-02],\n",
       "       [ -7.06099337e-02],\n",
       "       [  7.45225634e-02],\n",
       "       [ -8.85727379e-02],\n",
       "       [ -2.82828447e-02],\n",
       "       [ -4.22059745e-02],\n",
       "       [  4.42827871e-02],\n",
       "       [ -2.59677224e-02],\n",
       "       [  1.00176636e-01],\n",
       "       [ -7.79302937e-02],\n",
       "       [  1.28330726e-01],\n",
       "       [  1.15513999e-01],\n",
       "       [  6.52982314e-03],\n",
       "       [ -1.34206076e-01],\n",
       "       [ -1.44917256e-01],\n",
       "       [ -4.50899007e-02],\n",
       "       [ -1.48530719e-01],\n",
       "       [  7.98625048e-03],\n",
       "       [  9.65012797e-02],\n",
       "       [  1.33732243e-02],\n",
       "       [ -9.04395469e-02],\n",
       "       [  1.45708272e-01],\n",
       "       [  6.63115534e-02],\n",
       "       [ -2.12986225e-01],\n",
       "       [ -5.66376978e-02],\n",
       "       [  9.48449992e-02],\n",
       "       [ -2.07689102e-02],\n",
       "       [ -4.20488726e-02],\n",
       "       [ -1.05031946e-01],\n",
       "       [  1.66115810e-02],\n",
       "       [ -6.92291569e-02],\n",
       "       [ -1.32965462e-01],\n",
       "       [  9.77259597e-02],\n",
       "       [ -7.90232635e-02],\n",
       "       [ -1.02567658e-02],\n",
       "       [ -1.06306278e-01],\n",
       "       [ -1.53492692e-01],\n",
       "       [  1.09295569e-01],\n",
       "       [ -4.73903455e-03],\n",
       "       [ -1.72996343e-02],\n",
       "       [ -1.14311668e-01],\n",
       "       [  6.85928642e-02],\n",
       "       [ -9.77229092e-02],\n",
       "       [  7.62885245e-02],\n",
       "       [  9.19009492e-02],\n",
       "       [ -1.17235614e-01],\n",
       "       [ -1.01591427e-02],\n",
       "       [ -9.40221339e-02],\n",
       "       [ -1.04743793e-01],\n",
       "       [  2.41872635e-03],\n",
       "       [ -2.73806825e-02],\n",
       "       [ -2.77564774e-02]])"
      ]
     },
     "execution_count": 18,
     "metadata": {},
     "output_type": "execute_result"
    }
   ],
   "source": [
    "w"
   ]
  },
  {
   "cell_type": "code",
   "execution_count": 323,
   "metadata": {
    "scrolled": true
   },
   "outputs": [
    {
     "data": {
      "text/plain": [
       "array([  8.84102869e-01,   8.05415883e-01,   1.06546756e+00,\n",
       "         9.72215547e-01,   9.58056909e-01,   1.05716623e+00,\n",
       "         9.20473301e-01,   8.45327879e-01,   8.97029667e-01,\n",
       "         1.04173871e+00,   7.97849529e-02,   3.37175718e-02,\n",
       "         2.92758931e-02,   1.52368810e-01,   4.31529068e-02,\n",
       "        -3.36211192e-02,  -5.40181395e-02,  -1.08961160e-01,\n",
       "        -1.34701047e-02,  -1.38291493e-01,   1.08846237e-01,\n",
       "        -6.45413457e-02,  -1.71588675e-02,   7.19719629e-03,\n",
       "        -3.49974693e-02,  -8.88798825e-02,   5.96183864e-02,\n",
       "         4.05628864e-02,   5.51256854e-02,  -5.15731717e-02,\n",
       "        -1.90178972e-02,  -1.18705824e-01,  -3.50096448e-02,\n",
       "        -1.24584563e-02,  -1.00955604e-01,   1.22090252e-01,\n",
       "         9.53760771e-02,   4.26965913e-03,  -8.36100660e-02,\n",
       "         3.88197511e-03,  -4.05470591e-02,  -1.40245979e-01,\n",
       "         1.13908795e-01,   9.87966984e-02,   8.91910887e-02,\n",
       "        -7.13502358e-02,  -4.28673551e-02,  -7.67986620e-02,\n",
       "         2.33322523e-02,   1.69099061e-01,   7.57523154e-03,\n",
       "        -9.12369310e-02,   6.06513135e-02,  -3.06988311e-02,\n",
       "        -7.15154385e-02,   1.82860917e-02,  -1.49060682e-01,\n",
       "         1.34640146e-02,   2.36672416e-01,   2.96686655e-02,\n",
       "         4.52322915e-02,   9.97619079e-02,   9.08555202e-02,\n",
       "        -4.43171018e-02,  -9.75004930e-04,   6.37295771e-03,\n",
       "        -8.81430477e-02,  -9.55251630e-03,   1.76270379e-01,\n",
       "        -1.05311785e-01,   1.36742929e-01,   1.18813262e-01,\n",
       "         3.38952241e-02,  -7.67125993e-02,  -2.71750293e-02,\n",
       "         1.11001845e-01,   4.58015823e-02,  -6.34733987e-02,\n",
       "        -2.05055198e-01,  -1.84130666e-01,  -9.33372697e-02,\n",
       "        -1.77952767e-02,   5.70599477e-02,   6.91560131e-02,\n",
       "         3.53893303e-02,   1.68334947e-02,  -1.21368397e-01,\n",
       "        -1.39445206e-01,   4.03692451e-02,   2.22739096e-02,\n",
       "        -5.95482143e-02,  -8.31759806e-02,   4.79894664e-02,\n",
       "         7.73286491e-02,   3.05926411e-02,   3.20701951e-02,\n",
       "         1.38057190e-01,   4.33635781e-02,   1.99437041e-03,\n",
       "         1.25136158e-03])"
      ]
     },
     "execution_count": 323,
     "metadata": {},
     "output_type": "execute_result"
    }
   ],
   "source": [
    "regr.coef_"
   ]
  },
  {
   "cell_type": "code",
   "execution_count": null,
   "metadata": {},
   "outputs": [],
   "source": []
  }
 ],
 "metadata": {
  "kernelspec": {
   "display_name": "Python 3",
   "language": "python",
   "name": "python3"
  },
  "language_info": {
   "codemirror_mode": {
    "name": "ipython",
    "version": 3
   },
   "file_extension": ".py",
   "mimetype": "text/x-python",
   "name": "python",
   "nbconvert_exporter": "python",
   "pygments_lexer": "ipython3",
   "version": "3.6.3"
  },
  "toc": {
   "colors": {
    "hover_highlight": "#DAA520",
    "navigate_num": "#000000",
    "navigate_text": "#333333",
    "running_highlight": "#FF0000",
    "selected_highlight": "#FFD700",
    "sidebar_border": "#EEEEEE",
    "wrapper_background": "#FFFFFF"
   },
   "moveMenuLeft": true,
   "nav_menu": {
    "height": "12px",
    "width": "252px"
   },
   "navigate_menu": true,
   "number_sections": false,
   "sideBar": true,
   "threshold": 4,
   "toc_cell": false,
   "toc_section_display": "block",
   "toc_window_display": false,
   "widenNotebook": false
  }
 },
 "nbformat": 4,
 "nbformat_minor": 2
}
