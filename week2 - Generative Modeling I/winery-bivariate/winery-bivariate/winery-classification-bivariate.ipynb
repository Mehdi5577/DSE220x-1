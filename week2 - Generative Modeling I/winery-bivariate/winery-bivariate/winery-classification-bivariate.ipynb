{
 "cells": [
  {
   "cell_type": "markdown",
   "metadata": {},
   "source": [
    "# Winery classification with the bivariate Gaussian\n",
    "\n",
    "Our first generative model for Winery classification used just one feature. Now we use two features, modeling each class by a **bivariate Gaussian**."
   ]
  },
  {
   "cell_type": "markdown",
   "metadata": {},
   "source": [
    "## 1. Load in the data set"
   ]
  },
  {
   "cell_type": "markdown",
   "metadata": {},
   "source": [
    "As in the univariate case, we start by loading in the Wine data set. Make sure the file `wine.data.txt` is in the same directory as this notebook.\n",
    "\n",
    "Recall that there are 178 data points, each with 13 features and a label (1,2,3). As before, we will divide this into a training set of 130 points and a test set of 48 points."
   ]
  },
  {
   "cell_type": "code",
   "execution_count": 1,
   "metadata": {},
   "outputs": [],
   "source": [
    "# Standard includes\n",
    "%matplotlib inline\n",
    "import numpy as np\n",
    "import matplotlib.pyplot as plt\n",
    "# Useful module for dealing with the Gaussian density\n",
    "from scipy.stats import norm, multivariate_normal \n",
    "# installing packages for interactive graphs\n",
    "import ipywidgets as widgets\n",
    "from IPython.display import display\n",
    "from ipywidgets import interact, interactive, fixed, interact_manual, IntSlider"
   ]
  },
  {
   "cell_type": "code",
   "execution_count": 2,
   "metadata": {},
   "outputs": [],
   "source": [
    "# Load data set.\n",
    "data = np.loadtxt('wine.data.txt', delimiter=',')\n",
    "# Names of features\n",
    "featurenames = ['Alcohol', 'Malic acid', 'Ash', 'Alcalinity of ash','Magnesium', 'Total phenols', \n",
    "                'Flavanoids', 'Nonflavanoid phenols', 'Proanthocyanins', 'Color intensity', 'Hue', \n",
    "                'OD280/OD315 of diluted wines', 'Proline']\n",
    "# Split 178 instances into training set (trainx, trainy) of size 130 and test set (testx, testy) of size 48\n",
    "np.random.seed(0)\n",
    "perm = np.random.permutation(178)\n",
    "trainx = data[perm[0:130],1:14]\n",
    "trainy = data[perm[0:130],0]\n",
    "testx = data[perm[130:178], 1:14]\n",
    "testy = data[perm[130:178],0]"
   ]
  },
  {
   "cell_type": "markdown",
   "metadata": {},
   "source": [
    "## 2. Look at the distribution of two features from one of the wineries"
   ]
  },
  {
   "cell_type": "markdown",
   "metadata": {},
   "source": [
    "Our goal is to plot the distribution of two features from a particular winery. We will use several helper functions for this. It is worth understanding each of these."
   ]
  },
  {
   "cell_type": "markdown",
   "metadata": {},
   "source": [
    "The first helper function fits a Gaussian to a data set, restricting attention to specified features.\n",
    "It returns the mean and covariance matrix of the Gaussian."
   ]
  },
  {
   "cell_type": "code",
   "execution_count": 3,
   "metadata": {},
   "outputs": [],
   "source": [
    "# Fit a Gaussian to a data set using the selected features\n",
    "def fit_gaussian(x, features):\n",
    "    mu = np.mean(x[:,features], axis=0)\n",
    "    covar = np.cov(x[:,features], rowvar=0, bias=1)\n",
    "    return mu, covar"
   ]
  },
  {
   "cell_type": "markdown",
   "metadata": {},
   "source": [
    "For example, let's look at the Gaussian we get for winery 1, using features 0 ('alcohol') and 6 ('flavanoids')."
   ]
  },
  {
   "cell_type": "code",
   "execution_count": 4,
   "metadata": {},
   "outputs": [
    {
     "name": "stdout",
     "output_type": "stream",
     "text": [
      "Mean:\n",
      "[ 13.78534884   2.99627907]\n",
      "Covariance matrix:\n",
      "[[ 0.23325279  0.07526874]\n",
      " [ 0.07526874  0.15240941]]\n"
     ]
    }
   ],
   "source": [
    "f1 = 0\n",
    "f2 = 6\n",
    "label = 1\n",
    "mu, covar = fit_gaussian(trainx[trainy==label,:], [f1,f2])\n",
    "print(\"Mean:\\n\" + str(mu))\n",
    "print(\"Covariance matrix:\\n\" + str(covar))"
   ]
  },
  {
   "cell_type": "markdown",
   "metadata": {},
   "source": [
    "Next, we will construct a routine for displaying points sampled from a two-dimensional Gaussian, as well as a few contour lines. Part of doing this involves deciding what range to use for each axis. We begin with a little helper function that takes as input an array of numbers (values along a single feature) and returns the range in which these numbers lie."
   ]
  },
  {
   "cell_type": "code",
   "execution_count": 5,
   "metadata": {},
   "outputs": [],
   "source": [
    "# Find the range within which an array of numbers lie, with a little buffer\n",
    "def find_range(x):\n",
    "    lower = min(x)\n",
    "    upper = max(x)\n",
    "    width = upper - lower\n",
    "    lower = lower - 0.2 * width\n",
    "    upper = upper + 0.2 * width\n",
    "    return lower, upper"
   ]
  },
  {
   "cell_type": "markdown",
   "metadata": {},
   "source": [
    "Next we define a routine that plots a few contour lines of a given two-dimensional Gaussian.\n",
    "It takes as input:\n",
    "* `mu`, `cov`: the parameters of the Gaussian\n",
    "* `x1g`, `x2g`: the grid (along the two axes) at which the density is to be computed\n",
    "* `col`: the color of the contour lines"
   ]
  },
  {
   "cell_type": "code",
   "execution_count": 6,
   "metadata": {},
   "outputs": [],
   "source": [
    "def plot_contours(mu, cov, x1g, x2g, col):\n",
    "    rv = multivariate_normal(mean=mu, cov=cov)\n",
    "    z = np.zeros((len(x1g),len(x2g)))\n",
    "    for i in range(0,len(x1g)):\n",
    "        for j in range(0,len(x2g)):\n",
    "            z[j,i] = rv.logpdf([x1g[i], x2g[j]]) \n",
    "    sign, logdet = np.linalg.slogdet(cov)\n",
    "    normalizer = -0.5 * (2 * np.log(6.28) + sign * logdet)\n",
    "    for offset in range(1,4):\n",
    "        plt.contour(x1g,x2g,z, levels=[normalizer - offset], colors=col, linewidths=2.0, linestyles='solid')"
   ]
  },
  {
   "cell_type": "markdown",
   "metadata": {},
   "source": [
    "The function **two_features_plot** takes an input two features and a label, and displays the distribution for the specified winery and pair of features.\n",
    "\n",
    "The first line allows you to specify the parameters interactively using sliders."
   ]
  },
  {
   "cell_type": "code",
   "execution_count": 7,
   "metadata": {},
   "outputs": [
    {
     "data": {
      "application/vnd.jupyter.widget-view+json": {
       "model_id": "9433ddb5f9ef441292454d4d07dfe089",
       "version_major": 2,
       "version_minor": 0
      },
      "text/plain": [
       "interactive(children=(IntSlider(value=0, description='f1', max=12), IntSlider(value=6, description='f2', max=1…"
      ]
     },
     "metadata": {},
     "output_type": "display_data"
    }
   ],
   "source": [
    "@interact_manual( f1=IntSlider(0,0,12,1), f2=IntSlider(6,0,12,1), label=IntSlider(1,1,3,1) )\n",
    "def two_features_plot(f1,f2,label):\n",
    "    if f1 == f2: # we need f1 != f2\n",
    "        print(\"Please choose different features for f1 and f2.\")\n",
    "        return  \n",
    "    \n",
    "    # Set up plot\n",
    "    x1_lower, x1_upper = find_range(trainx[trainy==label,f1])\n",
    "    x2_lower, x2_upper = find_range(trainx[trainy==label,f2])\n",
    "    plt.xlim(x1_lower, x1_upper) # limit along x1-axis\n",
    "    plt.ylim(x2_lower, x2_upper) # limit along x2-axis\n",
    "    \n",
    "    # Plot the training points along the two selected features\n",
    "    plt.plot(trainx[trainy==label, f1], trainx[trainy==label, f2], 'ro')\n",
    "\n",
    "    # Define a grid along each axis; the density will be computed at each grid point\n",
    "    res = 200 # resolution\n",
    "    x1g = np.linspace(x1_lower, x1_upper, res)\n",
    "    x2g = np.linspace(x2_lower, x2_upper, res)\n",
    "\n",
    "    # Now plot a few contour lines of the density\n",
    "    mu, cov = fit_gaussian(trainx[trainy==label,:], [f1,f2])\n",
    "    plot_contours(mu, cov, x1g, x2g, 'k')\n",
    "    \n",
    "    # Finally, display\n",
    "    plt.xlabel(featurenames[f1], fontsize=14, color='red')\n",
    "    plt.ylabel(featurenames[f2], fontsize=14, color='red')\n",
    "    plt.title('Class ' + str(label), fontsize=14, color='blue')\n",
    "    plt.show()"
   ]
  },
  {
   "cell_type": "markdown",
   "metadata": {},
   "source": [
    "## 3. Fit a Gaussian to each class"
   ]
  },
  {
   "cell_type": "markdown",
   "metadata": {},
   "source": [
    "We now define a function that will fit a Gaussian generative model to the three classes, restricted to a given list of features. The function returns:\n",
    "* `mu`: the means of the Gaussians, one per row\n",
    "* `covar`: covariance matrices of each of the Gaussians\n",
    "* `pi`: list of three class weights summing to 1"
   ]
  },
  {
   "cell_type": "code",
   "execution_count": 8,
   "metadata": {},
   "outputs": [],
   "source": [
    "# Assumes y takes on values 1,2,3\n",
    "def fit_generative_model(x, y, features):\n",
    "    k = 3 # number of classes\n",
    "    d = len(features) # number of features\n",
    "    mu = np.zeros((k+1,d)) # list of means\n",
    "    covar = np.zeros((k+1,d,d)) # list of covariance matrices\n",
    "    pi = np.zeros(k+1) # list of class weights\n",
    "    for label in range(1,k+1):\n",
    "        indices = (y==label)\n",
    "        mu[label,:], covar[label,:,:] = fit_gaussian(x[indices,:], features)\n",
    "        pi[label] = float(sum(indices))/float(len(y))  # 每一类所占比例\n",
    "    return mu, covar, pi"
   ]
  },
  {
   "cell_type": "markdown",
   "metadata": {},
   "source": [
    "Now we will plot the three Gaussians."
   ]
  },
  {
   "cell_type": "code",
   "execution_count": 9,
   "metadata": {},
   "outputs": [
    {
     "data": {
      "application/vnd.jupyter.widget-view+json": {
       "model_id": "4da58143346743caba613cac032ad416",
       "version_major": 2,
       "version_minor": 0
      },
      "text/plain": [
       "interactive(children=(IntSlider(value=0, description='f1', max=12), IntSlider(value=6, description='f2', max=1…"
      ]
     },
     "metadata": {},
     "output_type": "display_data"
    }
   ],
   "source": [
    "@interact_manual( f1=IntSlider(0,0,12,1), f2=IntSlider(6,0,12,1) )\n",
    "def three_class_plot(f1,f2):\n",
    "    if f1 == f2: # we need f1 != f2\n",
    "        print(\"Please choose different features for f1 and f2.\")\n",
    "        return  \n",
    "    \n",
    "    # Set up plot\n",
    "    x1_lower, x1_upper = find_range(trainx[:,f1])\n",
    "    x2_lower, x2_upper = find_range(trainx[:,f2])\n",
    "    plt.xlim(x1_lower, x1_upper) # limit along x1-axis\n",
    "    plt.ylim(x2_lower, x2_upper) # limit along x2-axis\n",
    "    \n",
    "    # Plot the training points along the two selected features\n",
    "    colors = ['r', 'k', 'g']\n",
    "    for label in range(1,4):\n",
    "        plt.plot(trainx[trainy==label,f1], trainx[trainy==label,f2], marker='o', ls='None', c=colors[label-1])\n",
    "\n",
    "    # Define a grid along each axis; the density will be computed at each grid point\n",
    "    res = 200 # resolution\n",
    "    x1g = np.linspace(x1_lower, x1_upper, res)\n",
    "    x2g = np.linspace(x2_lower, x2_upper, res)\n",
    "\n",
    "    # Show the Gaussian fit to each class, using features f1,f2\n",
    "    mu, covar, pi = fit_generative_model(trainx, trainy, [f1,f2])\n",
    "    for label in range(1,4):\n",
    "        gmean = mu[label,:]\n",
    "        gcov = covar[label,:,:]\n",
    "        plot_contours(gmean, gcov, x1g, x2g, colors[label-1])\n",
    "\n",
    "    # Finally, display\n",
    "    plt.xlabel(featurenames[f1], fontsize=14, color='red')\n",
    "    plt.ylabel(featurenames[f2], fontsize=14, color='red')\n",
    "    plt.title('Wine data', fontsize=14, color='blue')\n",
    "    plt.show()"
   ]
  },
  {
   "cell_type": "markdown",
   "metadata": {},
   "source": [
    "## 4. Predict labels for the test points"
   ]
  },
  {
   "cell_type": "markdown",
   "metadata": {},
   "source": [
    "How well we can predict the class (1,2,3) based just on these two features?\n",
    "\n",
    "We start with a testing procedure that is analogous to what we developed in the 1-d case."
   ]
  },
  {
   "cell_type": "code",
   "execution_count": 11,
   "metadata": {},
   "outputs": [
    {
     "data": {
      "application/vnd.jupyter.widget-view+json": {
       "model_id": "01f8725ab12e469caeb311b0bd82bb8e",
       "version_major": 2,
       "version_minor": 0
      },
      "text/plain": [
       "interactive(children=(IntSlider(value=0, description='f1', max=12), IntSlider(value=6, description='f2', max=1…"
      ]
     },
     "metadata": {},
     "output_type": "display_data"
    }
   ],
   "source": [
    "# Now test the performance of a predictor based on a subset of features\n",
    "@interact( f1=IntSlider(0,0,12,1), f2=IntSlider(6,0,12,1) )\n",
    "def test_model(f1, f2):\n",
    "    if f1 == f2: # need f1 != f2\n",
    "        print(\"Please choose different features for f1 and f2.\")\n",
    "        return  \n",
    "    features= [f1,f2]\n",
    "    mu, covar, pi = fit_generative_model(trainx, trainy, features)\n",
    "    \n",
    "    k = 3 # Labels 1,2,...,k\n",
    "    nt = len(testy) # Number of test points\n",
    "    score = np.zeros((nt,k+1))\n",
    "    for i in range(0,nt):\n",
    "        for label in range(1,k+1):\n",
    "            score[i,label] = np.log(pi[label]) + \\\n",
    "            multivariate_normal.logpdf(testx[i,features], mean=mu[label,:], cov=covar[label,:,:])\n",
    "    predictions = np.argmax(score[:,1:4], axis=1) + 1\n",
    "    # Finally, tally up score\n",
    "    errors = np.sum(predictions != testy)\n",
    "    print(\"Test error using feature(s): \",)\n",
    "    for f in features:\n",
    "        print(\"'\" + featurenames[f] + \"'\" + \" \",)\n",
    "    print\n",
    "    print(\"Errors: \" + str(errors) + \"/\" + str(nt))# Now test the performance of a predictor based on a subset of features"
   ]
  },
  {
   "cell_type": "markdown",
   "metadata": {},
   "source": [
    "### <font color=\"magenta\">Fast exercise 1</font>"
   ]
  },
  {
   "cell_type": "markdown",
   "metadata": {},
   "source": [
    "Different pairs of features yield different test errors.\n",
    "* What is the smallest achievable test error?\n",
    "* Which pair of features achieves this minimum test error?\n",
    "\n",
    "*Make a note of your answers to these questions, as you will need to enter them as part of this week's assignment.*"
   ]
  },
  {
   "cell_type": "markdown",
   "metadata": {
    "collapsed": true
   },
   "source": [
    "## 5. The decision boundary "
   ]
  },
  {
   "cell_type": "markdown",
   "metadata": {},
   "source": [
    "The function **show_decision_boundary** takes as input two features, builds a classifier based only on these two features, and shows a plot that contains both the training data and the decision boundary.\n",
    "\n",
    "To compute the decision boundary, a dense grid is defined on the two-dimensional input space and the classifier is applied to every grid point. The built-in `pyplot.contour` function can then be invoked to depict the boundary.\n",
    "\n",
    "- 好神奇，终于看到如何画高斯混合模型的boundary了！"
   ]
  },
  {
   "cell_type": "code",
   "execution_count": 15,
   "metadata": {},
   "outputs": [
    {
     "data": {
      "application/vnd.jupyter.widget-view+json": {
       "model_id": "b2b5a93c275e42de8b690b95f4f27767",
       "version_major": 2,
       "version_minor": 0
      },
      "text/plain": [
       "interactive(children=(IntSlider(value=0, description='f1', max=12), IntSlider(value=6, description='f2', max=1…"
      ]
     },
     "metadata": {},
     "output_type": "display_data"
    }
   ],
   "source": [
    "@interact( f1=IntSlider(0,0,12,1), f2=IntSlider(6,0,12,1) )\n",
    "def show_decision_boundary(f1,f2):\n",
    "    # Fit Gaussian to each class\n",
    "    mu, covar, pi = fit_generative_model(trainx, trainy, [f1,f2])\n",
    "    \n",
    "    # Set up dimensions of plot\n",
    "    x1_lower, x1_upper = find_range(trainx[:,f1])\n",
    "    x2_lower, x2_upper = find_range(trainx[:,f2])\n",
    "    plt.xlim([x1_lower,x1_upper])\n",
    "    plt.ylim([x2_lower,x2_upper])\n",
    "\n",
    "    # Plot points in training set\n",
    "    colors = ['r', 'k', 'g']\n",
    "    for label in range(1,4):\n",
    "        plt.plot(trainx[trainy==label,f1], trainx[trainy==label,f2], marker='o', ls='None', c=colors[label-1])\n",
    "\n",
    "    # Define a dense grid; every point in the grid will be classified according to the generative model\n",
    "    res = 200\n",
    "    x1g = np.linspace(x1_lower, x1_upper, res)\n",
    "    x2g = np.linspace(x2_lower, x2_upper, res)\n",
    "\n",
    "    # Declare random variables corresponding to each class density\n",
    "    random_vars = {}\n",
    "    for label in range(1,4):\n",
    "        random_vars[label] = multivariate_normal(mean=mu[label,:],cov=covar[label,:,:])  # 对每一个类定义一个2元随机变量\n",
    "\n",
    "    # Classify every point in the grid; these are stored in an array Z[]\n",
    "    Z = np.zeros((len(x1g), len(x2g)))\n",
    "    for i in range(0,len(x1g)):\n",
    "        for j in range(0,len(x2g)):\n",
    "            scores = []\n",
    "            for label in range(1,4):\n",
    "                scores.append(np.log(pi[label]) + random_vars[label].logpdf([x1g[i],x2g[j]]))\n",
    "            Z[i,j] = np.argmax(scores) + 1\n",
    "\n",
    "    # Plot the contour lines\n",
    "    plt.contour(x1g,x2g,Z.T,3,cmap='seismic')\n",
    "    \n",
    "    # Finally, show the image\n",
    "    plt.xlabel(featurenames[f1], fontsize=14, color='red')\n",
    "    plt.ylabel(featurenames[f2], fontsize=14, color='red')\n",
    "    plt.show()"
   ]
  },
  {
   "cell_type": "markdown",
   "metadata": {},
   "source": [
    "Let's use the function above to draw the decision boundary using features 0 ('alcohol') and 6 ('flavanoids')."
   ]
  },
  {
   "cell_type": "code",
   "execution_count": 14,
   "metadata": {},
   "outputs": [
    {
     "data": {
      "image/png": "[encoded data removed]",
      "text/plain": [
       "<matplotlib.figure.Figure at 0x256313ecf98>"
      ]
     },
     "metadata": {},
     "output_type": "display_data"
    }
   ],
   "source": [
    "show_decision_boundary(0,6)"
   ]
  },
  {
   "cell_type": "markdown",
   "metadata": {},
   "source": [
    "### <font color=\"magenta\">Fast exercise 2</font>"
   ]
  },
  {
   "cell_type": "markdown",
   "metadata": {},
   "source": [
    "Can you add interactive sliders to function **show_decision_boundary**?"
   ]
  },
  {
   "cell_type": "markdown",
   "metadata": {},
   "source": [
    "### <font color=\"magenta\">Fast exercise 3</font>"
   ]
  },
  {
   "cell_type": "markdown",
   "metadata": {},
   "source": [
    "Produce a plot similar to that of **show_decision_boundary**, but in which just the **test** data is shown.\n",
    "Look back at your answer to *Fast exercise 1*. Is it corroborated by your plot? Are the errors clearly visible?"
   ]
  },
  {
   "cell_type": "code",
   "execution_count": 16,
   "metadata": {},
   "outputs": [
    {
     "data": {
      "text/plain": [
       "(array([[  1.38800000e+01,   1.89000000e+00,   2.59000000e+00,\n",
       "           1.50000000e+01,   1.01000000e+02,   3.25000000e+00,\n",
       "           3.56000000e+00,   1.70000000e-01,   1.70000000e+00,\n",
       "           5.43000000e+00,   8.80000000e-01,   3.56000000e+00,\n",
       "           1.09500000e+03],\n",
       "        [  1.24200000e+01,   2.55000000e+00,   2.27000000e+00,\n",
       "           2.20000000e+01,   9.00000000e+01,   1.68000000e+00,\n",
       "           1.84000000e+00,   6.60000000e-01,   1.42000000e+00,\n",
       "           2.70000000e+00,   8.60000000e-01,   3.30000000e+00,\n",
       "           3.15000000e+02],\n",
       "        [  1.28100000e+01,   2.31000000e+00,   2.40000000e+00,\n",
       "           2.40000000e+01,   9.80000000e+01,   1.15000000e+00,\n",
       "           1.09000000e+00,   2.70000000e-01,   8.30000000e-01,\n",
       "           5.70000000e+00,   6.60000000e-01,   1.36000000e+00,\n",
       "           5.60000000e+02],\n",
       "        [  1.25800000e+01,   1.29000000e+00,   2.10000000e+00,\n",
       "           2.00000000e+01,   1.03000000e+02,   1.48000000e+00,\n",
       "           5.80000000e-01,   5.30000000e-01,   1.40000000e+00,\n",
       "           7.60000000e+00,   5.80000000e-01,   1.55000000e+00,\n",
       "           6.40000000e+02],\n",
       "        [  1.38300000e+01,   1.57000000e+00,   2.62000000e+00,\n",
       "           2.00000000e+01,   1.15000000e+02,   2.95000000e+00,\n",
       "           3.40000000e+00,   4.00000000e-01,   1.72000000e+00,\n",
       "           6.60000000e+00,   1.13000000e+00,   2.57000000e+00,\n",
       "           1.13000000e+03],\n",
       "        [  1.30700000e+01,   1.50000000e+00,   2.10000000e+00,\n",
       "           1.55000000e+01,   9.80000000e+01,   2.40000000e+00,\n",
       "           2.64000000e+00,   2.80000000e-01,   1.37000000e+00,\n",
       "           3.70000000e+00,   1.18000000e+00,   2.69000000e+00,\n",
       "           1.02000000e+03],\n",
       "        [  1.27000000e+01,   3.55000000e+00,   2.36000000e+00,\n",
       "           2.15000000e+01,   1.06000000e+02,   1.70000000e+00,\n",
       "           1.20000000e+00,   1.70000000e-01,   8.40000000e-01,\n",
       "           5.00000000e+00,   7.80000000e-01,   1.29000000e+00,\n",
       "           6.00000000e+02],\n",
       "        [  1.37700000e+01,   1.90000000e+00,   2.68000000e+00,\n",
       "           1.71000000e+01,   1.15000000e+02,   3.00000000e+00,\n",
       "           2.79000000e+00,   3.90000000e-01,   1.68000000e+00,\n",
       "           6.30000000e+00,   1.13000000e+00,   2.93000000e+00,\n",
       "           1.37500000e+03],\n",
       "        [  1.28400000e+01,   2.96000000e+00,   2.61000000e+00,\n",
       "           2.40000000e+01,   1.01000000e+02,   2.32000000e+00,\n",
       "           6.00000000e-01,   5.30000000e-01,   8.10000000e-01,\n",
       "           4.92000000e+00,   8.90000000e-01,   2.15000000e+00,\n",
       "           5.90000000e+02],\n",
       "        [  1.23700000e+01,   1.63000000e+00,   2.30000000e+00,\n",
       "           2.45000000e+01,   8.80000000e+01,   2.22000000e+00,\n",
       "           2.45000000e+00,   4.00000000e-01,   1.90000000e+00,\n",
       "           2.12000000e+00,   8.90000000e-01,   2.78000000e+00,\n",
       "           3.42000000e+02],\n",
       "        [  1.35100000e+01,   1.80000000e+00,   2.65000000e+00,\n",
       "           1.90000000e+01,   1.10000000e+02,   2.35000000e+00,\n",
       "           2.53000000e+00,   2.90000000e-01,   1.54000000e+00,\n",
       "           4.20000000e+00,   1.10000000e+00,   2.87000000e+00,\n",
       "           1.09500000e+03],\n",
       "        [  1.38700000e+01,   1.90000000e+00,   2.80000000e+00,\n",
       "           1.94000000e+01,   1.07000000e+02,   2.95000000e+00,\n",
       "           2.97000000e+00,   3.70000000e-01,   1.76000000e+00,\n",
       "           4.50000000e+00,   1.25000000e+00,   3.40000000e+00,\n",
       "           9.15000000e+02],\n",
       "        [  1.20800000e+01,   1.39000000e+00,   2.50000000e+00,\n",
       "           2.25000000e+01,   8.40000000e+01,   2.56000000e+00,\n",
       "           2.29000000e+00,   4.30000000e-01,   1.04000000e+00,\n",
       "           2.90000000e+00,   9.30000000e-01,   3.19000000e+00,\n",
       "           3.85000000e+02],\n",
       "        [  1.35800000e+01,   1.66000000e+00,   2.36000000e+00,\n",
       "           1.91000000e+01,   1.06000000e+02,   2.86000000e+00,\n",
       "           3.19000000e+00,   2.20000000e-01,   1.95000000e+00,\n",
       "           6.90000000e+00,   1.09000000e+00,   2.88000000e+00,\n",
       "           1.51500000e+03],\n",
       "        [  1.30800000e+01,   3.90000000e+00,   2.36000000e+00,\n",
       "           2.15000000e+01,   1.13000000e+02,   1.41000000e+00,\n",
       "           1.39000000e+00,   3.40000000e-01,   1.14000000e+00,\n",
       "           9.40000000e+00,   5.70000000e-01,   1.33000000e+00,\n",
       "           5.50000000e+02],\n",
       "        [  1.17900000e+01,   2.13000000e+00,   2.78000000e+00,\n",
       "           2.85000000e+01,   9.20000000e+01,   2.13000000e+00,\n",
       "           2.24000000e+00,   5.80000000e-01,   1.76000000e+00,\n",
       "           3.00000000e+00,   9.70000000e-01,   2.44000000e+00,\n",
       "           4.66000000e+02],\n",
       "        [  1.24500000e+01,   3.03000000e+00,   2.64000000e+00,\n",
       "           2.70000000e+01,   9.70000000e+01,   1.90000000e+00,\n",
       "           5.80000000e-01,   6.30000000e-01,   1.14000000e+00,\n",
       "           7.50000000e+00,   6.70000000e-01,   1.73000000e+00,\n",
       "           8.80000000e+02],\n",
       "        [  1.36800000e+01,   1.83000000e+00,   2.36000000e+00,\n",
       "           1.72000000e+01,   1.04000000e+02,   2.42000000e+00,\n",
       "           2.69000000e+00,   4.20000000e-01,   1.97000000e+00,\n",
       "           3.84000000e+00,   1.23000000e+00,   2.87000000e+00,\n",
       "           9.90000000e+02],\n",
       "        [  1.35200000e+01,   3.17000000e+00,   2.72000000e+00,\n",
       "           2.35000000e+01,   9.70000000e+01,   1.55000000e+00,\n",
       "           5.20000000e-01,   5.00000000e-01,   5.50000000e-01,\n",
       "           4.35000000e+00,   8.90000000e-01,   2.06000000e+00,\n",
       "           5.20000000e+02],\n",
       "        [  1.35000000e+01,   3.12000000e+00,   2.62000000e+00,\n",
       "           2.40000000e+01,   1.23000000e+02,   1.40000000e+00,\n",
       "           1.57000000e+00,   2.20000000e-01,   1.25000000e+00,\n",
       "           8.60000000e+00,   5.90000000e-01,   1.30000000e+00,\n",
       "           5.00000000e+02],\n",
       "        [  1.28700000e+01,   4.61000000e+00,   2.48000000e+00,\n",
       "           2.15000000e+01,   8.60000000e+01,   1.70000000e+00,\n",
       "           6.50000000e-01,   4.70000000e-01,   8.60000000e-01,\n",
       "           7.65000000e+00,   5.40000000e-01,   1.86000000e+00,\n",
       "           6.25000000e+02],\n",
       "        [  1.40200000e+01,   1.68000000e+00,   2.21000000e+00,\n",
       "           1.60000000e+01,   9.60000000e+01,   2.65000000e+00,\n",
       "           2.33000000e+00,   2.60000000e-01,   1.98000000e+00,\n",
       "           4.70000000e+00,   1.04000000e+00,   3.59000000e+00,\n",
       "           1.03500000e+03],\n",
       "        [  1.22900000e+01,   3.17000000e+00,   2.21000000e+00,\n",
       "           1.80000000e+01,   8.80000000e+01,   2.85000000e+00,\n",
       "           2.99000000e+00,   4.50000000e-01,   2.81000000e+00,\n",
       "           2.30000000e+00,   1.42000000e+00,   2.83000000e+00,\n",
       "           4.06000000e+02],\n",
       "        [  1.20800000e+01,   1.13000000e+00,   2.51000000e+00,\n",
       "           2.40000000e+01,   7.80000000e+01,   2.00000000e+00,\n",
       "           1.58000000e+00,   4.00000000e-01,   1.40000000e+00,\n",
       "           2.20000000e+00,   1.31000000e+00,   2.72000000e+00,\n",
       "           6.30000000e+02],\n",
       "        [  1.27000000e+01,   3.87000000e+00,   2.40000000e+00,\n",
       "           2.30000000e+01,   1.01000000e+02,   2.83000000e+00,\n",
       "           2.55000000e+00,   4.30000000e-01,   1.95000000e+00,\n",
       "           2.57000000e+00,   1.19000000e+00,   3.13000000e+00,\n",
       "           4.63000000e+02],\n",
       "        [  1.10300000e+01,   1.51000000e+00,   2.20000000e+00,\n",
       "           2.15000000e+01,   8.50000000e+01,   2.46000000e+00,\n",
       "           2.17000000e+00,   5.20000000e-01,   2.01000000e+00,\n",
       "           1.90000000e+00,   1.71000000e+00,   2.87000000e+00,\n",
       "           4.07000000e+02],\n",
       "        [  1.33200000e+01,   3.24000000e+00,   2.38000000e+00,\n",
       "           2.15000000e+01,   9.20000000e+01,   1.93000000e+00,\n",
       "           7.60000000e-01,   4.50000000e-01,   1.25000000e+00,\n",
       "           8.42000000e+00,   5.50000000e-01,   1.62000000e+00,\n",
       "           6.50000000e+02],\n",
       "        [  1.41300000e+01,   4.10000000e+00,   2.74000000e+00,\n",
       "           2.45000000e+01,   9.60000000e+01,   2.05000000e+00,\n",
       "           7.60000000e-01,   5.60000000e-01,   1.35000000e+00,\n",
       "           9.20000000e+00,   6.10000000e-01,   1.60000000e+00,\n",
       "           5.60000000e+02],\n",
       "        [  1.34900000e+01,   1.66000000e+00,   2.24000000e+00,\n",
       "           2.40000000e+01,   8.70000000e+01,   1.88000000e+00,\n",
       "           1.84000000e+00,   2.70000000e-01,   1.03000000e+00,\n",
       "           3.74000000e+00,   9.80000000e-01,   2.78000000e+00,\n",
       "           4.72000000e+02],\n",
       "        [  1.18400000e+01,   2.89000000e+00,   2.23000000e+00,\n",
       "           1.80000000e+01,   1.12000000e+02,   1.72000000e+00,\n",
       "           1.32000000e+00,   4.30000000e-01,   9.50000000e-01,\n",
       "           2.65000000e+00,   9.60000000e-01,   2.52000000e+00,\n",
       "           5.00000000e+02],\n",
       "        [  1.30500000e+01,   2.05000000e+00,   3.22000000e+00,\n",
       "           2.50000000e+01,   1.24000000e+02,   2.63000000e+00,\n",
       "           2.68000000e+00,   4.70000000e-01,   1.92000000e+00,\n",
       "           3.58000000e+00,   1.13000000e+00,   3.20000000e+00,\n",
       "           8.30000000e+02],\n",
       "        [  1.27200000e+01,   1.81000000e+00,   2.20000000e+00,\n",
       "           1.88000000e+01,   8.60000000e+01,   2.20000000e+00,\n",
       "           2.53000000e+00,   2.60000000e-01,   1.77000000e+00,\n",
       "           3.90000000e+00,   1.16000000e+00,   3.14000000e+00,\n",
       "           7.14000000e+02],\n",
       "        [  1.28200000e+01,   3.37000000e+00,   2.30000000e+00,\n",
       "           1.95000000e+01,   8.80000000e+01,   1.48000000e+00,\n",
       "           6.60000000e-01,   4.00000000e-01,   9.70000000e-01,\n",
       "           1.02600000e+01,   7.20000000e-01,   1.75000000e+00,\n",
       "           6.85000000e+02],\n",
       "        [  1.34000000e+01,   4.60000000e+00,   2.86000000e+00,\n",
       "           2.50000000e+01,   1.12000000e+02,   1.98000000e+00,\n",
       "           9.60000000e-01,   2.70000000e-01,   1.11000000e+00,\n",
       "           8.50000000e+00,   6.70000000e-01,   1.92000000e+00,\n",
       "           6.30000000e+02],\n",
       "        [  1.42200000e+01,   3.99000000e+00,   2.51000000e+00,\n",
       "           1.32000000e+01,   1.28000000e+02,   3.00000000e+00,\n",
       "           3.04000000e+00,   2.00000000e-01,   2.08000000e+00,\n",
       "           5.10000000e+00,   8.90000000e-01,   3.53000000e+00,\n",
       "           7.60000000e+02],\n",
       "        [  1.37200000e+01,   1.43000000e+00,   2.50000000e+00,\n",
       "           1.67000000e+01,   1.08000000e+02,   3.40000000e+00,\n",
       "           3.67000000e+00,   1.90000000e-01,   2.04000000e+00,\n",
       "           6.80000000e+00,   8.90000000e-01,   2.87000000e+00,\n",
       "           1.28500000e+03],\n",
       "        [  1.29300000e+01,   2.81000000e+00,   2.70000000e+00,\n",
       "           2.10000000e+01,   9.60000000e+01,   1.54000000e+00,\n",
       "           5.00000000e-01,   5.30000000e-01,   7.50000000e-01,\n",
       "           4.60000000e+00,   7.70000000e-01,   2.31000000e+00,\n",
       "           6.00000000e+02],\n",
       "        [  1.16400000e+01,   2.06000000e+00,   2.46000000e+00,\n",
       "           2.16000000e+01,   8.40000000e+01,   1.95000000e+00,\n",
       "           1.69000000e+00,   4.80000000e-01,   1.35000000e+00,\n",
       "           2.80000000e+00,   1.00000000e+00,   2.75000000e+00,\n",
       "           6.80000000e+02],\n",
       "        [  1.22900000e+01,   1.61000000e+00,   2.21000000e+00,\n",
       "           2.04000000e+01,   1.03000000e+02,   1.10000000e+00,\n",
       "           1.02000000e+00,   3.70000000e-01,   1.46000000e+00,\n",
       "           3.05000000e+00,   9.06000000e-01,   1.82000000e+00,\n",
       "           8.70000000e+02],\n",
       "        [  1.16500000e+01,   1.67000000e+00,   2.62000000e+00,\n",
       "           2.60000000e+01,   8.80000000e+01,   1.92000000e+00,\n",
       "           1.61000000e+00,   4.00000000e-01,   1.34000000e+00,\n",
       "           2.60000000e+00,   1.36000000e+00,   3.21000000e+00,\n",
       "           5.62000000e+02],\n",
       "        [  1.32800000e+01,   1.64000000e+00,   2.84000000e+00,\n",
       "           1.55000000e+01,   1.10000000e+02,   2.60000000e+00,\n",
       "           2.68000000e+00,   3.40000000e-01,   1.36000000e+00,\n",
       "           4.60000000e+00,   1.09000000e+00,   2.78000000e+00,\n",
       "           8.80000000e+02],\n",
       "        [  1.29300000e+01,   3.80000000e+00,   2.65000000e+00,\n",
       "           1.86000000e+01,   1.02000000e+02,   2.41000000e+00,\n",
       "           2.41000000e+00,   2.50000000e-01,   1.98000000e+00,\n",
       "           4.50000000e+00,   1.03000000e+00,   3.52000000e+00,\n",
       "           7.70000000e+02],\n",
       "        [  1.38600000e+01,   1.35000000e+00,   2.27000000e+00,\n",
       "           1.60000000e+01,   9.80000000e+01,   2.98000000e+00,\n",
       "           3.15000000e+00,   2.20000000e-01,   1.85000000e+00,\n",
       "           7.22000000e+00,   1.01000000e+00,   3.55000000e+00,\n",
       "           1.04500000e+03],\n",
       "        [  1.18200000e+01,   1.72000000e+00,   1.88000000e+00,\n",
       "           1.95000000e+01,   8.60000000e+01,   2.50000000e+00,\n",
       "           1.64000000e+00,   3.70000000e-01,   1.42000000e+00,\n",
       "           2.06000000e+00,   9.40000000e-01,   2.44000000e+00,\n",
       "           4.15000000e+02],\n",
       "        [  1.23700000e+01,   1.17000000e+00,   1.92000000e+00,\n",
       "           1.96000000e+01,   7.80000000e+01,   2.11000000e+00,\n",
       "           2.00000000e+00,   2.70000000e-01,   1.04000000e+00,\n",
       "           4.68000000e+00,   1.12000000e+00,   3.48000000e+00,\n",
       "           5.10000000e+02],\n",
       "        [  1.24200000e+01,   1.61000000e+00,   2.19000000e+00,\n",
       "           2.25000000e+01,   1.08000000e+02,   2.00000000e+00,\n",
       "           2.09000000e+00,   3.40000000e-01,   1.61000000e+00,\n",
       "           2.06000000e+00,   1.06000000e+00,   2.96000000e+00,\n",
       "           3.45000000e+02],\n",
       "        [  1.39000000e+01,   1.68000000e+00,   2.12000000e+00,\n",
       "           1.60000000e+01,   1.01000000e+02,   3.10000000e+00,\n",
       "           3.39000000e+00,   2.10000000e-01,   2.14000000e+00,\n",
       "           6.10000000e+00,   9.10000000e-01,   3.33000000e+00,\n",
       "           9.85000000e+02],\n",
       "        [  1.41600000e+01,   2.51000000e+00,   2.48000000e+00,\n",
       "           2.00000000e+01,   9.10000000e+01,   1.68000000e+00,\n",
       "           7.00000000e-01,   4.40000000e-01,   1.24000000e+00,\n",
       "           9.70000000e+00,   6.20000000e-01,   1.71000000e+00,\n",
       "           6.60000000e+02]]),\n",
       " array([ 1.,  2.,  3.,  3.,  1.,  1.,  3.,  1.,  3.,  2.,  1.,  1.,  2.,\n",
       "         1.,  3.,  2.,  3.,  1.,  3.,  3.,  3.,  1.,  2.,  2.,  2.,  2.,\n",
       "         3.,  3.,  2.,  2.,  1.,  2.,  3.,  3.,  1.,  1.,  3.,  2.,  2.,\n",
       "         2.,  1.,  1.,  1.,  2.,  2.,  2.,  1.,  3.]))"
      ]
     },
     "execution_count": 16,
     "metadata": {},
     "output_type": "execute_result"
    }
   ],
   "source": [
    "testx, testy"
   ]
  },
  {
   "cell_type": "code",
   "execution_count": 17,
   "metadata": {},
   "outputs": [],
   "source": [
    "def show_decision_boundary_test(f1,f2):\n",
    "    # Fit Gaussian to each class\n",
    "    mu, covar, pi = fit_generative_model(trainx, trainy, [f1,f2])\n",
    "    \n",
    "    # Set up dimensions of plot\n",
    "    x1_lower, x1_upper = find_range(trainx[:,f1])\n",
    "    x2_lower, x2_upper = find_range(trainx[:,f2])\n",
    "    plt.xlim([x1_lower,x1_upper])\n",
    "    plt.ylim([x2_lower,x2_upper])\n",
    "\n",
    "    # Plot points in training set\n",
    "    colors = ['r', 'k', 'g']\n",
    "    for label in range(1,4):\n",
    "        plt.plot(testx[testy==label,f1], testx[testy==label,f2], marker='o', ls='None', c=colors[label-1])\n",
    "\n",
    "    # Define a dense grid; every point in the grid will be classified according to the generative model\n",
    "    res = 200\n",
    "    x1g = np.linspace(x1_lower, x1_upper, res)\n",
    "    x2g = np.linspace(x2_lower, x2_upper, res)\n",
    "\n",
    "    # Declare random variables corresponding to each class density\n",
    "    random_vars = {}\n",
    "    for label in range(1,4):\n",
    "        random_vars[label] = multivariate_normal(mean=mu[label,:],cov=covar[label,:,:])  # 对每一个类定义一个2元随机变量\n",
    "\n",
    "    # Classify every point in the grid; these are stored in an array Z[]\n",
    "    Z = np.zeros((len(x1g), len(x2g)))\n",
    "    for i in range(0,len(x1g)):\n",
    "        for j in range(0,len(x2g)):\n",
    "            scores = []\n",
    "            for label in range(1,4):\n",
    "                scores.append(np.log(pi[label]) + random_vars[label].logpdf([x1g[i],x2g[j]]))\n",
    "            Z[i,j] = np.argmax(scores) + 1\n",
    "\n",
    "    # Plot the contour lines\n",
    "    plt.contour(x1g,x2g,Z.T,3,cmap='seismic')\n",
    "    \n",
    "    # Finally, show the image\n",
    "    plt.xlabel(featurenames[f1], fontsize=14, color='red')\n",
    "    plt.ylabel(featurenames[f2], fontsize=14, color='red')\n",
    "    plt.show()"
   ]
  },
  {
   "cell_type": "code",
   "execution_count": 19,
   "metadata": {},
   "outputs": [
    {
     "data": {
      "image/png": "[encoded data removed]",
      "text/plain": [
       "<matplotlib.figure.Figure at 0x256315377b8>"
      ]
     },
     "metadata": {},
     "output_type": "display_data"
    }
   ],
   "source": [
    "show_decision_boundary_test(6, 12)"
   ]
  },
  {
   "cell_type": "code",
   "execution_count": null,
   "metadata": {},
   "outputs": [],
   "source": []
  }
 ],
 "metadata": {
  "kernelspec": {
   "display_name": "Python 3",
   "language": "python",
   "name": "python3"
  },
  "language_info": {
   "codemirror_mode": {
    "name": "ipython",
    "version": 3
   },
   "file_extension": ".py",
   "mimetype": "text/x-python",
   "name": "python",
   "nbconvert_exporter": "python",
   "pygments_lexer": "ipython3",
   "version": "3.6.3"
  },
  "toc": {
   "colors": {
    "hover_highlight": "#DAA520",
    "navigate_num": "#000000",
    "navigate_text": "#333333",
    "running_highlight": "#FF0000",
    "selected_highlight": "#FFD700",
    "sidebar_border": "#EEEEEE",
    "wrapper_background": "#FFFFFF"
   },
   "moveMenuLeft": true,
   "nav_menu": {
    "height": "12px",
    "width": "252px"
   },
   "navigate_menu": true,
   "number_sections": false,
   "sideBar": true,
   "threshold": 4,
   "toc_cell": false,
   "toc_section_display": "block",
   "toc_window_display": false,
   "widenNotebook": false
  }
 },
 "nbformat": 4,
 "nbformat_minor": 1
}
